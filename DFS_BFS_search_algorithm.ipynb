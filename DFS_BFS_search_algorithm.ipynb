{
  "nbformat": 4,
  "nbformat_minor": 0,
  "metadata": {
    "colab": {
      "provenance": []
    },
    "kernelspec": {
      "name": "python3",
      "display_name": "Python 3"
    },
    "language_info": {
      "name": "python"
    }
  },
  "cells": [
    {
      "cell_type": "code",
      "source": [
        "#depth First search\n",
        "def dfs(graph, start):\n",
        "    visited = set()\n",
        "    stack = [start]\n",
        "    while stack:\n",
        "        node = stack.pop()\n",
        "        if node not in visited:\n",
        "            visited.add(node)\n",
        "            print(node)\n",
        "            stack.extend([neighbour for neighbour in graph[node] if neighbour not in visited])"
      ],
      "metadata": {
        "id": "r78inz-rZQXM"
      },
      "execution_count": 1,
      "outputs": []
    },
    {
      "cell_type": "code",
      "source": [
        "from collections import deque\n",
        "def bfs(graph, start):\n",
        "  visited = set()\n",
        "  queue =deque([start])\n",
        "  while queue:\n",
        "    node = queue.popleft()\n",
        "    if node not in visited:\n",
        "      visited.add(node)\n",
        "      print(node)\n",
        "      queue.extend([neighbour for neighbour in graph[node] if neighbour not in visited])\n",
        "\n",
        "#example usage\n",
        "graph = {\n",
        "    \"A\": [\"B\", \"C\"],\n",
        "    \"B\": [\"D\", \"E\"],\n",
        "    \"C\": [\"F\"],\n",
        "    \"D\": [\"D\"],\n",
        "    \"E\": [\"F\"],\n",
        "    \"F\": []\n",
        "}\n",
        "print('Depth First Search:')\n",
        "dfs(graph, \"A\")\n",
        "print('\\n Breadth First Search')\n",
        "bfs(graph, 'A')\n"
      ],
      "metadata": {
        "colab": {
          "base_uri": "https://localhost:8080/"
        },
        "id": "LKLp_uYUcteS",
        "outputId": "c0c1aee3-61fd-4e34-e3e8-30dd70184603"
      },
      "execution_count": 2,
      "outputs": [
        {
          "output_type": "stream",
          "name": "stdout",
          "text": [
            "Depth First Search:\n",
            "A\n",
            "C\n",
            "F\n",
            "B\n",
            "E\n",
            "D\n",
            "\n",
            " Breadth First Search\n",
            "A\n",
            "B\n",
            "C\n",
            "D\n",
            "E\n",
            "F\n"
          ]
        }
      ]
    },
    {
      "cell_type": "code",
      "source": [],
      "metadata": {
        "id": "muzUaIWefZ1r"
      },
      "execution_count": null,
      "outputs": []
    }
  ]
}