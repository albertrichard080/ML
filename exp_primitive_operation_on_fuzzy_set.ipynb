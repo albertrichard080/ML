{
  "nbformat": 4,
  "nbformat_minor": 0,
  "metadata": {
    "colab": {
      "provenance": []
    },
    "kernelspec": {
      "name": "python3",
      "display_name": "Python 3"
    },
    "language_info": {
      "name": "python"
    }
  },
  "cells": [
    {
      "cell_type": "code",
      "execution_count": null,
      "metadata": {
        "id": "yjY5QzOjXYuJ",
        "colab": {
          "base_uri": "https://localhost:8080/"
        },
        "outputId": "4af0d3e6-f7b6-4acc-a31b-6b0a84cfc49d"
      },
      "outputs": [
        {
          "output_type": "stream",
          "name": "stdout",
          "text": [
            "The first fuzzy set is : {'a': 0.2, 'b': 0.3, 'c': 0.6, 'd': 0.6}\n",
            "The second fuzzy set is : {'a': 0.9, 'b': 0.6, 'c': 0.4, 'd': 0.5}\n",
            "Fuzzy set intersection is: {'a': 0.2, 'b': 0.3, 'c': 0.4, 'd': 0.5}\n"
          ]
        }
      ],
      "source": [
        "A = {\"a\":0.2,\"b\":0.3,\"c\":0.6,\"d\":0.6}\n",
        "B = {\"a\":0.9,\"b\":0.6,\"c\":0.4,\"d\":0.5}\n",
        "Y = {}\n",
        "\n",
        "print('The first fuzzy set is :', A)\n",
        "print('The second fuzzy set is :', B)\n",
        "\n",
        "for key in A:\n",
        "  A_value = A[key]\n",
        "  B_value = B.get(key, 0)\n",
        "  Y[key] = min(A_value, B_value)\n",
        "\n",
        "print('Fuzzy set intersection is:', Y)"
      ]
    },
    {
      "cell_type": "code",
      "source": [
        "A = {\"a\":0.2,\"b\":0.3,\"c\":0.6,\"d\":0.6}\n",
        "B = {\"a\":0.9,\"b\":0.6,\"c\":0.4,\"d\":0.5}\n",
        "Y = {}\n",
        "\n",
        "print('The first fuzzy set is :', A)\n",
        "print('The second fuzzy set is :', B)\n",
        "\n",
        "for key in A:\n",
        "  A_value = A[key]\n",
        "  B_value = B.get(key, 0)\n",
        "  Y[key] = max(A_value, B_value)\n",
        "\n",
        "print('Fuzzy set union is:', Y)"
      ],
      "metadata": {
        "colab": {
          "base_uri": "https://localhost:8080/"
        },
        "id": "DpnmqWxxdnHu",
        "outputId": "839d2876-85e2-41af-daef-c9453ad42a9c"
      },
      "execution_count": null,
      "outputs": [
        {
          "output_type": "stream",
          "name": "stdout",
          "text": [
            "The first fuzzy set is : {'a': 0.2, 'b': 0.3, 'c': 0.6, 'd': 0.6}\n",
            "The second fuzzy set is : {'a': 0.9, 'b': 0.6, 'c': 0.4, 'd': 0.5}\n",
            "Fuzzy set union is: {'a': 0.9, 'b': 0.6, 'c': 0.6, 'd': 0.6}\n"
          ]
        }
      ]
    },
    {
      "cell_type": "code",
      "source": [
        "A = {\"a\":0.2,\"b\":0.3,\"c\":0.6,\"d\":0.6}\n",
        "Y = {}\n",
        "\n",
        "print('The  fuzzy set is :', A)\n",
        "\n",
        "for key in A:\n",
        "  Y[key] = 1 - A[key]\n",
        "\n",
        "print('Fuzzy set complement is:', Y)"
      ],
      "metadata": {
        "colab": {
          "base_uri": "https://localhost:8080/"
        },
        "id": "usDSeQlLd71r",
        "outputId": "05d6b22d-c963-4267-a5ae-f52a4585f3eb"
      },
      "execution_count": null,
      "outputs": [
        {
          "output_type": "stream",
          "name": "stdout",
          "text": [
            "The  fuzzy set is : {'a': 0.2, 'b': 0.3, 'c': 0.6, 'd': 0.6}\n",
            "Fuzzy set complement is: {'a': 0.8, 'b': 0.7, 'c': 0.4, 'd': 0.4}\n"
          ]
        }
      ]
    },
    {
      "cell_type": "code",
      "source": [
        "A = {\"a\":0.2,\"b\":0.3,\"c\":0.6,\"d\":0.6}\n",
        "alpha = 0.5\n",
        "Y = {}\n",
        "\n",
        "print('The  fuzzy set is :', A)\n",
        "print(f'Scalar multiplication by {alpha}:')\n",
        "\n",
        "for key in A:\n",
        "  Y[key] = min(1, alpha * A[key])\n",
        "\n",
        "print('Result of scalar multiplication is:', Y)"
      ],
      "metadata": {
        "colab": {
          "base_uri": "https://localhost:8080/"
        },
        "id": "-OpnFA5lfKhF",
        "outputId": "28d42bf9-b188-406b-af43-8cb922fff345"
      },
      "execution_count": null,
      "outputs": [
        {
          "output_type": "stream",
          "name": "stdout",
          "text": [
            "The  fuzzy set is : {'a': 0.2, 'b': 0.3, 'c': 0.6, 'd': 0.6}\n",
            "Scalar multiplication by 0.5:\n",
            "Result of scalar multiplication is: {'a': 0.1, 'b': 0.15, 'c': 0.3, 'd': 0.3}\n"
          ]
        }
      ]
    },
    {
      "cell_type": "code",
      "source": [
        "A = {\"a\":0.2,\"b\":0.3,\"c\":0.6,\"d\":0.6}\n",
        "B = {\"a\":0.9,\"b\":0.6,\"c\":0.4,\"d\":0.5}\n",
        "Y = {}\n",
        "\n",
        "print('The first fuzzy set is :', A)\n",
        "print('The second fuzzy set is :', B)\n",
        "\n",
        "for key in set(A) | set(B):\n",
        "  A_value = A.get(key, 0)\n",
        "  B_value = B.get(key, 0)\n",
        "  Y[key] = min(1, A_value + B_value)\n",
        "\n",
        "print('Fuzzy addition of A and B is:', Y)"
      ],
      "metadata": {
        "colab": {
          "base_uri": "https://localhost:8080/"
        },
        "id": "Hpf025xIfxW6",
        "outputId": "1d4300a3-f111-41f2-aff8-6a75b5364f65"
      },
      "execution_count": null,
      "outputs": [
        {
          "output_type": "stream",
          "name": "stdout",
          "text": [
            "The first fuzzy set is : {'a': 0.2, 'b': 0.3, 'c': 0.6, 'd': 0.6}\n",
            "The second fuzzy set is : {'a': 0.9, 'b': 0.6, 'c': 0.4, 'd': 0.5}\n",
            "Fuzzy addition of A and B is: {'a': 1, 'd': 1, 'b': 0.8999999999999999, 'c': 1}\n"
          ]
        }
      ]
    },
    {
      "cell_type": "code",
      "source": [
        "A = {\"a\":0.2,\"b\":0.3,\"c\":0.6,\"d\":0.6}\n",
        "B = {\"a\":0.9,\"b\":0.6,\"c\":0.4,\"d\":0.5}\n",
        "Y = {}\n",
        "\n",
        "print('The first fuzzy set is :', A)\n",
        "print('The second fuzzy set is :', B)\n",
        "\n",
        "for key in set(A) | set(B):\n",
        "  A_value = A.get(key, 0)\n",
        "  B_value = B.get(key, 0)\n",
        "  Y[key] = max(1, A_value - B_value)\n",
        "\n",
        "print('Fuzzy subtraction of A and B is:', Y)"
      ],
      "metadata": {
        "colab": {
          "base_uri": "https://localhost:8080/"
        },
        "id": "zhDzHgqVgn7v",
        "outputId": "44b55664-1e3e-41da-8265-df4c11ecd0ef"
      },
      "execution_count": null,
      "outputs": [
        {
          "output_type": "stream",
          "name": "stdout",
          "text": [
            "The first fuzzy set is : {'a': 0.2, 'b': 0.3, 'c': 0.6, 'd': 0.6}\n",
            "The second fuzzy set is : {'a': 0.9, 'b': 0.6, 'c': 0.4, 'd': 0.5}\n",
            "Fuzzy subtraction of A and B is: {'a': 1, 'd': 1, 'b': 1, 'c': 1}\n"
          ]
        }
      ]
    },
    {
      "cell_type": "code",
      "source": [],
      "metadata": {
        "id": "3cfYCd5nhTGP"
      },
      "execution_count": null,
      "outputs": []
    }
  ]
}